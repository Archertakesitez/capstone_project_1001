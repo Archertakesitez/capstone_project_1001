{
 "cells": [
  {
   "cell_type": "code",
   "execution_count": 22,
   "id": "5648d4e7-4992-4d9e-b354-a2ba803551d9",
   "metadata": {
    "tags": []
   },
   "outputs": [],
   "source": [
    "import pandas as pd\n",
    "import numpy as np"
   ]
  },
  {
   "cell_type": "markdown",
   "id": "40238469-9b90-40fd-aff2-7770661826f2",
   "metadata": {
    "tags": []
   },
   "source": [
    "## Data Pre-processing"
   ]
  },
  {
   "cell_type": "code",
   "execution_count": 34,
   "id": "35eeebea-4b61-4106-bb61-e521a2de8164",
   "metadata": {
    "tags": []
   },
   "outputs": [],
   "source": [
    "df_spotify = pd.read_csv('data/spotify52kData.csv')\n",
    "df_ratings = pd.read_csv('data/starRatings.csv',header=None)\n",
    "df_ratings.columns = df_spotify['track_name'].iloc[:5000] # manually specifying the index to be 5000 song names"
   ]
  },
  {
   "cell_type": "code",
   "execution_count": 31,
   "id": "107a55b1-4352-4505-8dce-aa00517a4319",
   "metadata": {
    "tags": []
   },
   "outputs": [
    {
     "data": {
      "text/plain": [
       "(songNumber          0\n",
       " artists             0\n",
       " album_name          0\n",
       " track_name          0\n",
       " popularity          0\n",
       " duration            0\n",
       " explicit            0\n",
       " danceability        0\n",
       " energy              0\n",
       " key                 0\n",
       " loudness            0\n",
       " mode                0\n",
       " speechiness         0\n",
       " acousticness        0\n",
       " instrumentalness    0\n",
       " liveness            0\n",
       " valence             0\n",
       " tempo               0\n",
       " time_signature      0\n",
       " track_genre         0\n",
       " dtype: int64,\n",
       " songNumber            int64\n",
       " artists              object\n",
       " album_name           object\n",
       " track_name           object\n",
       " popularity            int64\n",
       " duration              int64\n",
       " explicit               bool\n",
       " danceability        float64\n",
       " energy              float64\n",
       " key                   int64\n",
       " loudness            float64\n",
       " mode                  int64\n",
       " speechiness         float64\n",
       " acousticness        float64\n",
       " instrumentalness    float64\n",
       " liveness            float64\n",
       " valence             float64\n",
       " tempo               float64\n",
       " time_signature        int64\n",
       " track_genre          object\n",
       " dtype: object,\n",
       "           songNumber            artists                album_name track_name  \\\n",
       " count   52000.000000              52000                     52000      52000   \n",
       " unique           NaN              17125                     24534      38512   \n",
       " top              NaN  my little airport  Hans Zimmer: Epic Scores  Last Last   \n",
       " freq             NaN                171                        88         75   \n",
       " mean    25999.500000                NaN                       NaN        NaN   \n",
       " std     15011.251336                NaN                       NaN        NaN   \n",
       " min         0.000000                NaN                       NaN        NaN   \n",
       " 25%     12999.750000                NaN                       NaN        NaN   \n",
       " 50%     25999.500000                NaN                       NaN        NaN   \n",
       " 75%     38999.250000                NaN                       NaN        NaN   \n",
       " max     51999.000000                NaN                       NaN        NaN   \n",
       " \n",
       "           popularity      duration explicit  danceability        energy  \\\n",
       " count   52000.000000  5.200000e+04    52000  52000.000000  52000.000000   \n",
       " unique           NaN           NaN        2           NaN           NaN   \n",
       " top              NaN           NaN    False           NaN           NaN   \n",
       " freq             NaN           NaN    46403           NaN           NaN   \n",
       " mean       33.115923  2.302998e+05      NaN      0.563900      0.668259   \n",
       " std        21.743697  1.176823e+05      NaN      0.176573      0.249585   \n",
       " min         0.000000  1.745300e+04      NaN      0.000000      0.000020   \n",
       " 25%        18.000000  1.739470e+05      NaN      0.447000      0.508000   \n",
       " 50%        33.000000  2.135460e+05      NaN      0.574000      0.717000   \n",
       " 75%        50.000000  2.651962e+05      NaN      0.696000      0.877000   \n",
       " max       100.000000  4.789026e+06      NaN      0.983000      1.000000   \n",
       " \n",
       "                  key      loudness          mode   speechiness  acousticness  \\\n",
       " count   52000.000000  52000.000000  52000.000000  52000.000000  52000.000000   \n",
       " unique           NaN           NaN           NaN           NaN           NaN   \n",
       " top              NaN           NaN           NaN           NaN           NaN   \n",
       " freq             NaN           NaN           NaN           NaN           NaN   \n",
       " mean        5.348442     -7.972804      0.622904      0.095864      0.271442   \n",
       " std         3.562600      4.919127      0.484664      0.131501      0.322322   \n",
       " min         0.000000    -42.044000      0.000000      0.000000      0.000000   \n",
       " 25%         2.000000     -9.578000      0.000000      0.036800      0.007260   \n",
       " 50%         6.000000     -6.696000      1.000000      0.051200      0.106000   \n",
       " 75%         9.000000     -4.849000      1.000000      0.093000      0.499000   \n",
       " max        11.000000      4.532000      1.000000      0.965000      0.996000   \n",
       " \n",
       "         instrumentalness      liveness       valence         tempo  \\\n",
       " count       52000.000000  52000.000000  52000.000000  52000.000000   \n",
       " unique               NaN           NaN           NaN           NaN   \n",
       " top                  NaN           NaN           NaN           NaN   \n",
       " freq                 NaN           NaN           NaN           NaN   \n",
       " mean            0.182884      0.212527      0.451814    123.558120   \n",
       " std             0.325275      0.187986      0.255314     29.242142   \n",
       " min             0.000000      0.011200      0.000000      0.000000   \n",
       " 25%             0.000000      0.097200      0.238000    100.979000   \n",
       " 50%             0.000161      0.132000      0.431000    123.366000   \n",
       " 75%             0.168000      0.275000      0.653000    141.944000   \n",
       " max             0.997000      0.995000      0.995000    243.372000   \n",
       " \n",
       "         time_signature track_genre  \n",
       " count     52000.000000       52000  \n",
       " unique             NaN          52  \n",
       " top                NaN    acoustic  \n",
       " freq               NaN        1000  \n",
       " mean          3.916308         NaN  \n",
       " std           0.400671         NaN  \n",
       " min           0.000000         NaN  \n",
       " 25%           4.000000         NaN  \n",
       " 50%           4.000000         NaN  \n",
       " 75%           4.000000         NaN  \n",
       " max           5.000000         NaN  )"
      ]
     },
     "execution_count": 31,
     "metadata": {},
     "output_type": "execute_result"
    }
   ],
   "source": [
    "# Checking for missing values and the data types of each column\n",
    "missing_values = df_spotify.isnull().sum()\n",
    "data_types = df_spotify.dtypes\n",
    "# Overview of the dataset statistics\n",
    "dataset_statistics = df_spotify.describe(include='all')\n",
    "\n",
    "missing_values, data_types, dataset_statistics # data set overall is "
   ]
  },
  {
   "cell_type": "code",
   "execution_count": null,
   "id": "5de1bc66-0162-409c-9234-af487f2ea529",
   "metadata": {},
   "outputs": [],
   "source": []
  }
 ],
 "metadata": {
  "kernelspec": {
   "display_name": "Python 3 (ipykernel)",
   "language": "python",
   "name": "python3"
  },
  "language_info": {
   "codemirror_mode": {
    "name": "ipython",
    "version": 3
   },
   "file_extension": ".py",
   "mimetype": "text/x-python",
   "name": "python",
   "nbconvert_exporter": "python",
   "pygments_lexer": "ipython3",
   "version": "3.11.5"
  }
 },
 "nbformat": 4,
 "nbformat_minor": 5
}
